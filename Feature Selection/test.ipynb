{
 "cells": [
  {
   "cell_type": "code",
   "execution_count": 39,
   "id": "83497b89",
   "metadata": {},
   "outputs": [
    {
     "name": "stdout",
     "output_type": "stream",
     "text": [
      "a\n"
     ]
    }
   ],
   "source": [
    "# Find max occurence of a character in string\n",
    "a = \"Hi, this is an interview for Python developer. Can you let me know which character occurs most?\"\n",
    "freq_dict = {}\n",
    "for i in a:\n",
    "    if i in freq_dict:\n",
    "        freq_dict[i] +=1\n",
    "    else:\n",
    "        freq_dict[i]=1\n",
    "most_occurring = max(freq_dict, key=freq_dict.get)\n",
    "print(most_occurring)"
   ]
  },
  {
   "cell_type": "code",
   "execution_count": 40,
   "id": "75251fee",
   "metadata": {},
   "outputs": [
    {
     "name": "stdout",
     "output_type": "stream",
     "text": [
      "(' ', 16)\n"
     ]
    }
   ],
   "source": [
    "import collections\n",
    "s = \"Hi, this is an interview for Python developer. Can you let me know which character occurs most?\"\n",
    "print(collections.Counter(s).most_common(1)[0])"
   ]
  },
  {
   "cell_type": "code",
   "execution_count": 9,
   "id": "94bdb36a",
   "metadata": {},
   "outputs": [
    {
     "name": "stdout",
     "output_type": "stream",
     "text": [
      "The string is : \n",
      "Python-Interpreter\n",
      "The maximum of all characters is : \n",
      "t\n"
     ]
    }
   ],
   "source": [
    "my_string = \"Python-Interpreter\"\n",
    "\n",
    "print (\"The string is : \")\n",
    "print(my_string)\n",
    "\n",
    "max_frequency = {}\n",
    "for i in my_string:\n",
    "   if i in max_frequency:\n",
    "      max_frequency[i] += 1\n",
    "   else:\n",
    "      max_frequency[i] = 1\n",
    "my_result = max(max_frequency, key = max_frequency.get)\n",
    "\n",
    "print (\"The maximum of all characters is : \")\n",
    "print(my_result)"
   ]
  },
  {
   "cell_type": "code",
   "execution_count": 2,
   "id": "2af0c44c",
   "metadata": {},
   "outputs": [],
   "source": [
    "a= {\"drive a\":\"20GB\",\"drive b\":\"30GB\",\"drive c\":\"40GB\"}"
   ]
  },
  {
   "cell_type": "code",
   "execution_count": 3,
   "id": "56787d24",
   "metadata": {},
   "outputs": [
    {
     "name": "stdout",
     "output_type": "stream",
     "text": [
      "20\n",
      "30\n",
      "40\n"
     ]
    }
   ],
   "source": [
    "for key,value in a.items():\n",
    "    print(int(value[:2]))"
   ]
  },
  {
   "cell_type": "code",
   "execution_count": 4,
   "id": "d12f2211",
   "metadata": {},
   "outputs": [
    {
     "name": "stdout",
     "output_type": "stream",
     "text": [
      "Enter correct format\n"
     ]
    }
   ],
   "source": [
    "def str_to_number(num: str):\n",
    "    try:\n",
    "        number = int(num)\n",
    "        return number\n",
    "    except ValueError:\n",
    "        print(\"Enter correct format\")\n",
    "\n",
    "str_to_number(\"20\")\n",
    "str_to_number(\"ab\")"
   ]
  },
  {
   "cell_type": "code",
   "execution_count": 60,
   "id": "39d2c780",
   "metadata": {},
   "outputs": [
    {
     "data": {
      "text/plain": [
       "int"
      ]
     },
     "execution_count": 60,
     "metadata": {},
     "output_type": "execute_result"
    }
   ],
   "source": [
    "str = \"5000\"\n",
    "num = int(str)\n",
    "type(num)"
   ]
  },
  {
   "cell_type": "code",
   "execution_count": 55,
   "id": "968889fd",
   "metadata": {},
   "outputs": [
    {
     "name": "stdout",
     "output_type": "stream",
     "text": [
      "15\n"
     ]
    }
   ],
   "source": [
    "l = [1,2,3,4,5]\n",
    "sum = 0\n",
    "for i in l:\n",
    "    sum += i\n",
    "print(sum)"
   ]
  },
  {
   "cell_type": "code",
   "execution_count": 58,
   "id": "1939d36b",
   "metadata": {},
   "outputs": [
    {
     "data": {
      "text/plain": [
       "25"
      ]
     },
     "execution_count": 58,
     "metadata": {},
     "output_type": "execute_result"
    }
   ],
   "source": [
    "def sum_list(m):\n",
    "    sum = 0\n",
    "    for i in m:\n",
    "        sum = i + sum\n",
    "    return sum\n",
    "\n",
    "sum_list([1,2,-3,4,5])\n",
    "o =[1,3,5,7,9]\n",
    "sum_list(o)"
   ]
  },
  {
   "cell_type": "code",
   "execution_count": 3,
   "id": "1e794e05",
   "metadata": {},
   "outputs": [
    {
     "name": "stdout",
     "output_type": "stream",
     "text": [
      "m\n",
      "a\n",
      "n\n",
      "a\n",
      "l\n",
      "i\n"
     ]
    }
   ],
   "source": [
    "a = 'manali'\n",
    "for i in a:\n",
    "    print(i)"
   ]
  },
  {
   "cell_type": "code",
   "execution_count": 4,
   "id": "b2fd2861",
   "metadata": {},
   "outputs": [
    {
     "name": "stdout",
     "output_type": "stream",
     "text": [
      "palindrome\n"
     ]
    }
   ],
   "source": [
    "a = 'assissa'\n",
    "rev = a[::-1]\n",
    "if(a==rev):\n",
    "    print('palindrome')\n",
    "else:\n",
    "    print('not palindrome')"
   ]
  },
  {
   "cell_type": "code",
   "execution_count": 8,
   "id": "60cd25b1",
   "metadata": {},
   "outputs": [
    {
     "name": "stdout",
     "output_type": "stream",
     "text": [
      "palindrome\n"
     ]
    }
   ],
   "source": [
    "def check_palindrome(a):\n",
    "    rev = a[::-1]\n",
    "    if(a==rev):\n",
    "        print('palindrome')\n",
    "    else:\n",
    "        print('not palindrome')\n",
    "    \n",
    "check_palindrome('sms')"
   ]
  },
  {
   "cell_type": "code",
   "execution_count": 12,
   "id": "d83b9812",
   "metadata": {},
   "outputs": [
    {
     "name": "stdout",
     "output_type": "stream",
     "text": [
      "0\n",
      "1\n",
      "3\n",
      "6\n",
      "10\n",
      "15\n",
      "21\n",
      "28\n",
      "36\n",
      "45\n"
     ]
    }
   ],
   "source": [
    "#febnosis series\n",
    "sum = 0\n",
    "for i in range(10):\n",
    "    sum = i + sum\n",
    "    print(sum)"
   ]
  },
  {
   "cell_type": "code",
   "execution_count": 14,
   "id": "f0dc6ac9",
   "metadata": {},
   "outputs": [
    {
     "name": "stdout",
     "output_type": "stream",
     "text": [
      "0\n",
      "2\n",
      "4\n",
      "6\n",
      "8\n"
     ]
    }
   ],
   "source": [
    "#even number\n",
    "for i in range(10):\n",
    "    if i%2==0:\n",
    "        print(i)"
   ]
  },
  {
   "cell_type": "code",
   "execution_count": 16,
   "id": "3b173bf3",
   "metadata": {},
   "outputs": [
    {
     "name": "stdout",
     "output_type": "stream",
     "text": [
      "1\n",
      "3\n",
      "5\n",
      "7\n",
      "9\n"
     ]
    }
   ],
   "source": [
    "#odd number\n",
    "for i in range(10):\n",
    "    if i%2!=0:\n",
    "        print(i)"
   ]
  },
  {
   "cell_type": "code",
   "execution_count": 17,
   "id": "ddc65a26",
   "metadata": {},
   "outputs": [
    {
     "name": "stdout",
     "output_type": "stream",
     "text": [
      "0\n",
      "3\n",
      "6\n",
      "9\n"
     ]
    }
   ],
   "source": [
    "#divisible by 3\n",
    "for i in range(10):\n",
    "    if i%3==0:\n",
    "        print(i)"
   ]
  },
  {
   "cell_type": "code",
   "execution_count": 22,
   "id": "077923be",
   "metadata": {},
   "outputs": [
    {
     "data": {
      "text/html": [
       "<div>\n",
       "<style scoped>\n",
       "    .dataframe tbody tr th:only-of-type {\n",
       "        vertical-align: middle;\n",
       "    }\n",
       "\n",
       "    .dataframe tbody tr th {\n",
       "        vertical-align: top;\n",
       "    }\n",
       "\n",
       "    .dataframe thead th {\n",
       "        text-align: right;\n",
       "    }\n",
       "</style>\n",
       "<table border=\"1\" class=\"dataframe\">\n",
       "  <thead>\n",
       "    <tr style=\"text-align: right;\">\n",
       "      <th></th>\n",
       "      <th>b</th>\n",
       "    </tr>\n",
       "    <tr>\n",
       "      <th>a</th>\n",
       "      <th></th>\n",
       "    </tr>\n",
       "  </thead>\n",
       "  <tbody>\n",
       "    <tr>\n",
       "      <th>1</th>\n",
       "      <td>4</td>\n",
       "    </tr>\n",
       "    <tr>\n",
       "      <th>2</th>\n",
       "      <td>5</td>\n",
       "    </tr>\n",
       "    <tr>\n",
       "      <th>3</th>\n",
       "      <td>6</td>\n",
       "    </tr>\n",
       "  </tbody>\n",
       "</table>\n",
       "</div>"
      ],
      "text/plain": [
       "   b\n",
       "a   \n",
       "1  4\n",
       "2  5\n",
       "3  6"
      ]
     },
     "execution_count": 22,
     "metadata": {},
     "output_type": "execute_result"
    }
   ],
   "source": [
    "m = {'a':[1,2,3],'b':[4,5,6]}\n",
    "import pandas as pd\n",
    "\n",
    "df = pd.DataFrame(m)\n",
    "df.set_index('a')\n",
    "\n"
   ]
  },
  {
   "cell_type": "code",
   "execution_count": 23,
   "id": "36f97a55",
   "metadata": {},
   "outputs": [
    {
     "data": {
      "text/html": [
       "<div>\n",
       "<style scoped>\n",
       "    .dataframe tbody tr th:only-of-type {\n",
       "        vertical-align: middle;\n",
       "    }\n",
       "\n",
       "    .dataframe tbody tr th {\n",
       "        vertical-align: top;\n",
       "    }\n",
       "\n",
       "    .dataframe thead th {\n",
       "        text-align: right;\n",
       "    }\n",
       "</style>\n",
       "<table border=\"1\" class=\"dataframe\">\n",
       "  <thead>\n",
       "    <tr style=\"text-align: right;\">\n",
       "      <th></th>\n",
       "      <th>index</th>\n",
       "      <th>a</th>\n",
       "      <th>b</th>\n",
       "    </tr>\n",
       "  </thead>\n",
       "  <tbody>\n",
       "    <tr>\n",
       "      <th>0</th>\n",
       "      <td>0</td>\n",
       "      <td>1</td>\n",
       "      <td>4</td>\n",
       "    </tr>\n",
       "    <tr>\n",
       "      <th>1</th>\n",
       "      <td>1</td>\n",
       "      <td>2</td>\n",
       "      <td>5</td>\n",
       "    </tr>\n",
       "    <tr>\n",
       "      <th>2</th>\n",
       "      <td>2</td>\n",
       "      <td>3</td>\n",
       "      <td>6</td>\n",
       "    </tr>\n",
       "  </tbody>\n",
       "</table>\n",
       "</div>"
      ],
      "text/plain": [
       "   index  a  b\n",
       "0      0  1  4\n",
       "1      1  2  5\n",
       "2      2  3  6"
      ]
     },
     "execution_count": 23,
     "metadata": {},
     "output_type": "execute_result"
    }
   ],
   "source": [
    "df.reset_index()"
   ]
  },
  {
   "cell_type": "code",
   "execution_count": null,
   "id": "1c5a2c36",
   "metadata": {},
   "outputs": [],
   "source": []
  }
 ],
 "metadata": {
  "kernelspec": {
   "display_name": "Python 3",
   "language": "python",
   "name": "python3"
  },
  "language_info": {
   "codemirror_mode": {
    "name": "ipython",
    "version": 3
   },
   "file_extension": ".py",
   "mimetype": "text/x-python",
   "name": "python",
   "nbconvert_exporter": "python",
   "pygments_lexer": "ipython3",
   "version": "3.8.8"
  }
 },
 "nbformat": 4,
 "nbformat_minor": 5
}
